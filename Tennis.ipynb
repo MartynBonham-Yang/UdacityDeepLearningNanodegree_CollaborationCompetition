{
 "cells": [
  {
   "cell_type": "markdown",
   "metadata": {},
   "source": [
    "# Collaboration and Competition\n",
    "\n",
    "---\n",
    "\n",
    "You are welcome to use this coding environment to train your agent for the project.  Follow the instructions below to get started!\n",
    "\n",
    "### 1. Start the Environment\n",
    "\n",
    "Run the next code cell to install a few packages.  This line will take a few minutes to run!"
   ]
  },
  {
   "cell_type": "code",
   "execution_count": 1,
   "metadata": {},
   "outputs": [
    {
     "name": "stdout",
     "output_type": "stream",
     "text": [
      "\u001b[31mtensorflow 1.7.1 has requirement numpy>=1.13.3, but you'll have numpy 1.12.1 which is incompatible.\u001b[0m\r\n",
      "\u001b[31mipython 6.5.0 has requirement prompt-toolkit<2.0.0,>=1.0.15, but you'll have prompt-toolkit 3.0.30 which is incompatible.\u001b[0m\r\n",
      "\u001b[31mjupyter-console 6.4.3 has requirement jupyter-client>=7.0.0, but you'll have jupyter-client 5.2.4 which is incompatible.\u001b[0m\r\n"
     ]
    }
   ],
   "source": [
    "!pip -q install ./python"
   ]
  },
  {
   "cell_type": "markdown",
   "metadata": {},
   "source": [
    "The environment is already saved in the Workspace and can be accessed at the file path provided below. "
   ]
  },
  {
   "cell_type": "code",
   "execution_count": 2,
   "metadata": {},
   "outputs": [
    {
     "name": "stderr",
     "output_type": "stream",
     "text": [
      "INFO:unityagents:\n",
      "'Academy' started successfully!\n",
      "Unity Academy name: Academy\n",
      "        Number of Brains: 1\n",
      "        Number of External Brains : 1\n",
      "        Lesson number : 0\n",
      "        Reset Parameters :\n",
      "\t\t\n",
      "Unity brain name: TennisBrain\n",
      "        Number of Visual Observations (per agent): 0\n",
      "        Vector Observation space type: continuous\n",
      "        Vector Observation space size (per agent): 8\n",
      "        Number of stacked Vector Observation: 3\n",
      "        Vector Action space type: continuous\n",
      "        Vector Action space size (per agent): 2\n",
      "        Vector Action descriptions: , \n"
     ]
    }
   ],
   "source": [
    "from unityagents import UnityEnvironment\n",
    "import numpy as np\n",
    "\n",
    "env = UnityEnvironment(file_name=\"/data/Tennis_Linux_NoVis/Tennis\")"
   ]
  },
  {
   "cell_type": "markdown",
   "metadata": {},
   "source": [
    "Environments contain **_brains_** which are responsible for deciding the actions of their associated agents. Here we check for the first brain available, and set it as the default brain we will be controlling from Python."
   ]
  },
  {
   "cell_type": "code",
   "execution_count": 3,
   "metadata": {},
   "outputs": [],
   "source": [
    "# get the default brain\n",
    "brain_name = env.brain_names[0]\n",
    "brain = env.brains[brain_name]"
   ]
  },
  {
   "cell_type": "markdown",
   "metadata": {},
   "source": [
    "### 2. Examine the State and Action Spaces\n",
    "\n",
    "Run the code cell below to print some information about the environment."
   ]
  },
  {
   "cell_type": "code",
   "execution_count": 4,
   "metadata": {},
   "outputs": [
    {
     "name": "stdout",
     "output_type": "stream",
     "text": [
      "Number of agents: 2\n",
      "Size of each action: 2\n",
      "There are 2 agents. Each observes a state with length: 24\n",
      "The state for the first agent looks like: [ 0.          0.          0.          0.          0.          0.          0.\n",
      "  0.          0.          0.          0.          0.          0.          0.\n",
      "  0.          0.         -6.65278625 -1.5        -0.          0.\n",
      "  6.83172083  6.         -0.          0.        ]\n"
     ]
    }
   ],
   "source": [
    "# reset the environment\n",
    "env_info = env.reset(train_mode=True)[brain_name]\n",
    "\n",
    "# number of agents \n",
    "num_agents = len(env_info.agents)\n",
    "print('Number of agents:', num_agents)\n",
    "\n",
    "# size of each action\n",
    "action_size = brain.vector_action_space_size\n",
    "print('Size of each action:', action_size)\n",
    "\n",
    "# examine the state space \n",
    "states = env_info.vector_observations\n",
    "state_size = states.shape[1]\n",
    "print('There are {} agents. Each observes a state with length: {}'.format(states.shape[0], state_size))\n",
    "print('The state for the first agent looks like:', states[0])"
   ]
  },
  {
   "cell_type": "markdown",
   "metadata": {},
   "source": [
    "### 3. Take Random Actions in the Environment\n",
    "\n",
    "In the next code cell, you will learn how to use the Python API to control the agent and receive feedback from the environment.\n",
    "\n",
    "Note that **in this coding environment, you will not be able to watch the agents while they are training**, and you should set `train_mode=True` to restart the environment."
   ]
  },
  {
   "cell_type": "code",
   "execution_count": 5,
   "metadata": {},
   "outputs": [
    {
     "name": "stdout",
     "output_type": "stream",
     "text": [
      "Total score (averaged over agents) this episode: -0.004999999888241291\n",
      "Total score (averaged over agents) this episode: -0.004999999888241291\n",
      "Total score (averaged over agents) this episode: -0.004999999888241291\n",
      "Total score (averaged over agents) this episode: -0.004999999888241291\n",
      "Total score (averaged over agents) this episode: -0.004999999888241291\n"
     ]
    }
   ],
   "source": [
    "for i in range(5):                                         # play game for 5 episodes\n",
    "    env_info = env.reset(train_mode=True)[brain_name]     # reset the environment    \n",
    "    states = env_info.vector_observations                  # get the current state (for each agent)\n",
    "    scores = np.zeros(num_agents)                          # initialize the score (for each agent)\n",
    "    while True:\n",
    "        actions = np.random.randn(num_agents, action_size) # select an action (for each agent)\n",
    "        actions = np.clip(actions, -1, 1)                  # all actions between -1 and 1\n",
    "        env_info = env.step(actions)[brain_name]           # send all actions to tne environment\n",
    "        next_states = env_info.vector_observations         # get next state (for each agent)\n",
    "        rewards = env_info.rewards                         # get reward (for each agent)\n",
    "        dones = env_info.local_done                        # see if episode finished\n",
    "        scores += env_info.rewards                         # update the score (for each agent)\n",
    "        states = next_states                               # roll over states to next time step\n",
    "        if np.any(dones):                                  # exit loop if episode finished\n",
    "            break\n",
    "    print('Total score (averaged over agents) this episode: {}'.format(np.mean(scores)))"
   ]
  },
  {
   "cell_type": "markdown",
   "metadata": {},
   "source": [
    "When finished, you can close the environment."
   ]
  },
  {
   "cell_type": "code",
   "execution_count": 6,
   "metadata": {},
   "outputs": [],
   "source": [
    "#DO NOT RUN UNLESS WANTING TO REFRESH WORKSPACE\n",
    "\n",
    "#env.close()"
   ]
  },
  {
   "cell_type": "markdown",
   "metadata": {},
   "source": [
    "### 4. It's Your Turn!\n",
    "\n",
    "Now it's your turn to train your own agent to solve the environment!  A few **important notes**:\n",
    "- When training the environment, set `train_mode=True`, so that the line for resetting the environment looks like the following:\n",
    "```python\n",
    "env_info = env.reset(train_mode=True)[brain_name]\n",
    "```\n",
    "- To structure your work, you're welcome to work directly in this Jupyter notebook, or you might like to start over with a new file!  You can see the list of files in the workspace by clicking on **_Jupyter_** in the top left corner of the notebook.\n",
    "- In this coding environment, you will not be able to watch the agents while they are training.  However, **_after training the agents_**, you can download the saved model weights to watch the agents on your own machine! "
   ]
  },
  {
   "cell_type": "markdown",
   "metadata": {},
   "source": [
    "-------"
   ]
  },
  {
   "cell_type": "code",
   "execution_count": 7,
   "metadata": {},
   "outputs": [],
   "source": [
    "#Imports cell - missing from provided code but used in last project, unsure why it was missing\n",
    "\n",
    "from maddpg_agent import MADDPG_DualAgent\n",
    "\n",
    "from collections import deque\n",
    "import matplotlib.pyplot as plt\n",
    "import random\n",
    "import time\n",
    "import torch"
   ]
  },
  {
   "cell_type": "code",
   "execution_count": 8,
   "metadata": {},
   "outputs": [],
   "source": [
    "#Instantiate agent \n",
    "agent = MADDPG_DualAgent(seed=1, t_stop_noise=20000)"
   ]
  },
  {
   "cell_type": "code",
   "execution_count": 9,
   "metadata": {},
   "outputs": [
    {
     "name": "stdout",
     "output_type": "stream",
     "text": [
      "Episode 100\tAverage Score: 0.005\n",
      "Episode 200\tAverage Score: 0.000\n",
      "Episode 300\tAverage Score: 0.002\n",
      "Episode 400\tAverage Score: 0.009\n",
      "Episode 500\tAverage Score: 0.010\n",
      "Episode 600\tAverage Score: 0.018\n",
      "Episode 700\tAverage Score: 0.031\n",
      "Episode 800\tAverage Score: 0.003\n",
      "Episode 900\tAverage Score: 0.003\n",
      "Episode 1000\tAverage Score: 0.003\n",
      "Episode 1100\tAverage Score: 0.001\n",
      "Episode 1200\tAverage Score: 0.016\n",
      "Episode 1300\tAverage Score: 0.024\n",
      "Episode 1400\tAverage Score: 0.008\n",
      "Episode 1500\tAverage Score: 0.003\n",
      "Episode 1600\tAverage Score: 0.042\n",
      "Episode 1700\tAverage Score: 0.035\n",
      "Episode 1800\tAverage Score: 0.001\n",
      "Episode 1900\tAverage Score: 0.027\n",
      "Episode 2000\tAverage Score: 0.027\n",
      "Episode 2100\tAverage Score: 0.071\n",
      "Episode 2200\tAverage Score: 0.068\n",
      "Episode 2300\tAverage Score: 0.082\n",
      "Episode 2400\tAverage Score: 0.057\n",
      "Episode 2500\tAverage Score: 0.094\n",
      "Episode 2600\tAverage Score: 0.095\n",
      "Episode 2700\tAverage Score: 0.071\n",
      "Episode 2800\tAverage Score: 0.061\n",
      "Episode 2900\tAverage Score: 0.056\n",
      "Episode 3000\tAverage Score: 0.049\n",
      "Episode 3100\tAverage Score: 0.076\n",
      "Episode 3200\tAverage Score: 0.081\n",
      "Episode 3300\tAverage Score: 0.052\n",
      "Episode 3400\tAverage Score: 0.061\n",
      "Episode 3500\tAverage Score: 0.090\n",
      "Episode 3600\tAverage Score: 0.094\n",
      "Episode 3700\tAverage Score: 0.095\n",
      "Episode 3800\tAverage Score: 0.093\n",
      "Episode 3900\tAverage Score: 0.096\n",
      "Episode 4000\tAverage Score: 0.096\n",
      "Episode 4100\tAverage Score: 0.110\n",
      "Episode 4200\tAverage Score: 0.104\n",
      "Episode 4300\tAverage Score: 0.097\n",
      "Episode 4400\tAverage Score: 0.098\n",
      "Episode 4500\tAverage Score: 0.102\n",
      "Episode 4600\tAverage Score: 0.083\n",
      "Episode 4700\tAverage Score: 0.107\n",
      "Episode 4800\tAverage Score: 0.102\n",
      "Episode 4900\tAverage Score: 0.108\n",
      "Episode 5000\tAverage Score: 0.119\n",
      "Episode 5100\tAverage Score: 0.145\n",
      "Episode 5200\tAverage Score: 0.117\n",
      "Episode 5300\tAverage Score: 0.116\n",
      "Episode 5400\tAverage Score: 0.155\n",
      "Episode 5500\tAverage Score: 0.109\n",
      "Episode 5600\tAverage Score: 0.179\n",
      "Episode 5700\tAverage Score: 0.158\n",
      "Episode 5800\tAverage Score: 0.134\n",
      "Episode 5900\tAverage Score: 0.159\n",
      "Episode 6000\tAverage Score: 0.254\n",
      "Episode 6100\tAverage Score: 0.201\n",
      "Episode 6200\tAverage Score: 0.200\n",
      "Episode 6300\tAverage Score: 0.133\n",
      "Episode 6400\tAverage Score: 0.175\n",
      "Episode 6500\tAverage Score: 0.168\n",
      "Episode 6600\tAverage Score: 0.136\n",
      "Episode 6700\tAverage Score: 0.152\n",
      "Episode 6800\tAverage Score: 0.158\n",
      "Episode 6900\tAverage Score: 0.196\n",
      "Episode 7000\tAverage Score: 0.160\n",
      "Episode 7100\tAverage Score: 0.212\n",
      "Episode 7200\tAverage Score: 0.228\n",
      "Episode 7300\tAverage Score: 0.171\n",
      "Episode 7400\tAverage Score: 0.110\n",
      "Episode 7500\tAverage Score: 0.120\n",
      "Episode 7600\tAverage Score: 0.162\n",
      "Episode 7700\tAverage Score: 0.147\n",
      "Episode 7800\tAverage Score: 0.126\n",
      "Episode 7900\tAverage Score: 0.149\n",
      "Episode 8000\tAverage Score: 0.133\n",
      "Episode 8100\tAverage Score: 0.207\n",
      "Episode 8200\tAverage Score: 0.117\n",
      "Episode 8300\tAverage Score: 0.138\n",
      "Episode 8400\tAverage Score: 0.159\n",
      "Episode 8500\tAverage Score: 0.139\n",
      "Episode 8600\tAverage Score: 0.197\n",
      "Episode 8700\tAverage Score: 0.257\n",
      "Episode 8800\tAverage Score: 0.211\n",
      "Episode 8900\tAverage Score: 0.214\n",
      "Episode 9000\tAverage Score: 0.270\n",
      "Episode 9100\tAverage Score: 0.305\n",
      "Episode 9200\tAverage Score: 0.434\n",
      "Episode 9298\tAverage Score: 0.510\n",
      "Environment solved in 9298 episodes!\tAverage Score: 0.510\n"
     ]
    }
   ],
   "source": [
    "#Set up empty lists\n",
    "scores = []\n",
    "scores_deque = deque(maxlen=100)\n",
    "scores_avg = []\n",
    "\n",
    "#Create maddpg_process function \n",
    " \n",
    "n_episodes = 10000\n",
    "max_t = 1000\n",
    "print_every = 100\n",
    "for i_episode in range(1, n_episodes+1):\n",
    "    rewards = []\n",
    "    env_info = env.reset(train_mode=True)[brain_name]       \n",
    "    state = env_info.vector_observations                 \n",
    "\n",
    "        \n",
    "    for t in range(max_t):\n",
    "        #Select action\n",
    "        action = agent.act(state)\n",
    "        #Act and collect next states, rewards & dones \n",
    "        env_info = env.step(action)[brain_name]\n",
    "        next_state = env_info.vector_observations\n",
    "        rewards_vec = env_info.rewards\n",
    "        done = env_info.local_done\n",
    "            \n",
    "        #Train agent\n",
    "        agent.step(state, action, rewards_vec, next_state, done)\n",
    "        state = next_state\n",
    "        rewards.append(rewards_vec)\n",
    "        if any(done):\n",
    "            break\n",
    "\n",
    "    #Collect rewards and scores \n",
    "    episode_reward = np.max(np.sum(np.array(rewards),axis=0))\n",
    "    scores.append(episode_reward)             \n",
    "    scores_deque.append(episode_reward)\n",
    "    current_avg_score = np.mean(scores_deque)\n",
    "    scores_avg.append(current_avg_score)\n",
    "\n",
    "    print('\\rEpisode {}\\tAverage Score: {:.3f}'.format(i_episode, current_avg_score),end=\"\")\n",
    "\n",
    "    #Print average score every print_every\n",
    "    if i_episode % print_every == 0:\n",
    "        print('\\rEpisode {}\\tAverage Score: {:.3f}'.format(i_episode, current_avg_score))\n",
    "        agent.save_agents()\n",
    "\n",
    "    # break and report success if environment is solved\n",
    "    if np.mean(scores_deque)>=.5:\n",
    "        print('\\nEnvironment solved in {:d} episodes!\\tAverage Score: {:.3f}'.format(i_episode, np.mean(scores_deque)))\n",
    "        agent.save_agents()\n",
    "        break\n"
   ]
  },
  {
   "cell_type": "code",
   "execution_count": 10,
   "metadata": {},
   "outputs": [
    {
     "data": {
      "image/png": "[encoded data removed]",
      "text/plain": [
       "<matplotlib.figure.Figure at 0x7ff50c371f28>"
      ]
     },
     "metadata": {
      "needs_background": "light"
     },
     "output_type": "display_data"
    }
   ],
   "source": [
    "#Create plot of MADDPG results \n",
    "fig = plt.figure()\n",
    "plt.plot(np.arange(len(scores)), scores, label=\"MADDPG Agents' score\")\n",
    "plt.plot(np.arange(len(scores)), scores_avg, c='r', label='moving average score')\n",
    "plt.ylabel('Score')\n",
    "plt.xlabel('Episode')\n",
    "plt.legend(loc='upper left');\n",
    "plt.show()"
   ]
  },
  {
   "cell_type": "code",
   "execution_count": null,
   "metadata": {},
   "outputs": [],
   "source": []
  }
 ],
 "metadata": {
  "kernelspec": {
   "display_name": "Python 3",
   "language": "python",
   "name": "python3"
  },
  "language_info": {
   "codemirror_mode": {
    "name": "ipython",
    "version": 3
   },
   "file_extension": ".py",
   "mimetype": "text/x-python",
   "name": "python",
   "nbconvert_exporter": "python",
   "pygments_lexer": "ipython3",
   "version": "3.6.3"
  }
 },
 "nbformat": 4,
 "nbformat_minor": 2
}
